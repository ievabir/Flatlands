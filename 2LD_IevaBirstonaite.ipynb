{
  "nbformat": 4,
  "nbformat_minor": 0,
  "metadata": {
    "colab": {
      "provenance": [],
      "gpuType": "A100"
    },
    "kernelspec": {
      "name": "python3",
      "display_name": "Python 3"
    },
    "language_info": {
      "name": "python"
    },
    "accelerator": "GPU"
  },
  "cells": [
    {
      "cell_type": "code",
      "execution_count": 1,
      "metadata": {
        "colab": {
          "base_uri": "https://localhost:8080/"
        },
        "id": "TGNbvvloygz_",
        "outputId": "53f6201c-93bf-45e8-d0e9-9e91f8e39e54"
      },
      "outputs": [
        {
          "output_type": "stream",
          "name": "stdout",
          "text": [
            "Mounted at /content/drive\n"
          ]
        }
      ],
      "source": [
        "from google.colab import drive\n",
        "drive.mount('/content/drive')"
      ]
    },
    {
      "cell_type": "code",
      "source": [
        "import pickle, gzip\n",
        "import tensorflow as tf\n",
        "from tensorflow import keras\n",
        "from tensorflow.keras import layers\n",
        "import numpy as np\n",
        "from tensorflow.keras.preprocessing.image import ImageDataGenerator\n",
        "from scipy.ndimage import rotate  # For image rotations\n",
        "from sklearn.model_selection import train_test_split\n",
        "import matplotlib.pyplot as plt\n",
        "\n"
      ],
      "metadata": {
        "id": "biYUZooXWW4S"
      },
      "execution_count": 2,
      "outputs": []
    },
    {
      "cell_type": "markdown",
      "source": [
        "Užkraunami duomenys"
      ],
      "metadata": {
        "id": "5a42O902LZwP"
      }
    },
    {
      "cell_type": "code",
      "source": [
        "X, y = pickle.load(gzip.open('/content/drive/MyDrive/Flatland data/flatland_train.data', 'rb'))\n",
        "X_p, y_p = pickle.load(gzip.open('/content/drive/MyDrive/Flatland data/flatland_test.data', 'rb'))"
      ],
      "metadata": {
        "id": "BmDeIruBz_IK"
      },
      "execution_count": 20,
      "outputs": []
    },
    {
      "cell_type": "markdown",
      "source": [
        "Sobel filtras, padding"
      ],
      "metadata": {
        "id": "IDzYVKzwLiUZ"
      }
    },
    {
      "cell_type": "code",
      "source": [
        "X = tf.convert_to_tensor(X, dtype=tf.float32)\n",
        "X_p = tf.convert_to_tensor(X_p, dtype=tf.float32)\n",
        "\n",
        "X = X / 255.0\n",
        "X_p = X_p / 255.0\n",
        "\n",
        "def apply_sobel_edges_with_padding(images, pad_width):\n",
        "\n",
        "    padded_images = tf.pad(images, [[0, 0], [pad_width, pad_width], [pad_width, pad_width]], mode='CONSTANT')\n",
        "\n",
        "    sobel_edges = tf.image.sobel_edges(padded_images[..., tf.newaxis])\n",
        "    gradient_magnitude = tf.sqrt(tf.reduce_sum(tf.square(sobel_edges), axis=-1))\n",
        "\n",
        "    return tf.squeeze(gradient_magnitude, axis=-1)\n",
        "\n",
        "pad_width = 1\n",
        "X_edges = apply_sobel_edges_with_padding(X, pad_width)\n",
        "X_p_edges = apply_sobel_edges_with_padding(X_p, pad_width)"
      ],
      "metadata": {
        "id": "W18SbDPu5EEj"
      },
      "execution_count": 21,
      "outputs": []
    },
    {
      "cell_type": "markdown",
      "source": [
        "Kontrolei patikriname, ar viskas gerai:"
      ],
      "metadata": {
        "id": "3_aakswOLkZQ"
      }
    },
    {
      "cell_type": "code",
      "source": [
        "def plot_random_sample(X, y):\n",
        "  \"\"\"Plots a random sample.\"\"\"\n",
        "\n",
        "  random_index = np.random.randint(0, X.shape[0])\n",
        "\n",
        "  sample = X[random_index]\n",
        "  label = y[random_index]\n",
        "\n",
        "  plt.imshow(sample)\n",
        "  plt.title(f\"Sample: {random_index}, Label: {label}\")\n",
        "  plt.show()\n",
        "\n",
        "plot_random_sample(X_edges, y)"
      ],
      "metadata": {
        "colab": {
          "base_uri": "https://localhost:8080/",
          "height": 452
        },
        "id": "iJ6u-Gpy2C39",
        "outputId": "41477e41-db55-496d-bbeb-4d51d1207e7e",
        "collapsed": true
      },
      "execution_count": 5,
      "outputs": [
        {
          "output_type": "display_data",
          "data": {
            "text/plain": [
              "<Figure size 640x480 with 1 Axes>"
            ],
            "image/png": "[encoded data removed]"
          },
          "metadata": {}
        }
      ]
    },
    {
      "cell_type": "code",
      "source": [
        "print(X_edges.shape)\n",
        "print(X_p_edges.shape)"
      ],
      "metadata": {
        "colab": {
          "base_uri": "https://localhost:8080/"
        },
        "id": "1Wu0F-y1E5Ly",
        "outputId": "3aaf9952-94fc-4c5e-d28b-678b741e521c"
      },
      "execution_count": 23,
      "outputs": [
        {
          "output_type": "stream",
          "name": "stdout",
          "text": [
            "(10000, 52, 52)\n",
            "(10000, 52, 52)\n"
          ]
        }
      ]
    },
    {
      "cell_type": "markdown",
      "source": [],
      "metadata": {
        "id": "EtfsLMY4LrpE"
      }
    },
    {
      "cell_type": "markdown",
      "source": [
        "Aprašome ImageDataGenerator, kuris atsitiktine tvarka atliks vaizdų rotacijas/poslinkius/priartinimus ir t.t."
      ],
      "metadata": {
        "id": "0z1VA7XlLzIu"
      }
    },
    {
      "cell_type": "code",
      "source": [
        "# add channel dimension\n",
        "X_edges = np.expand_dims(X_edges, axis=-1)\n",
        "\n",
        "train_datagen = ImageDataGenerator(\n",
        "    rotation_range=40,\n",
        "    width_shift_range=0.2,\n",
        "    height_shift_range=0.2,\n",
        "    shear_range=0.2,\n",
        "    zoom_range=0.2,\n",
        "    horizontal_flip=True,\n",
        "    fill_mode='nearest'\n",
        ")\n",
        "\n",
        "\n",
        "#Kontrolei patikriname ar gerai veikia:\n",
        "train_datagen.fit(X_edges)\n",
        "\n",
        "x = X_edges[0]\n",
        "x = x.reshape((1,) + x.shape)\n",
        "\n",
        "i = 0\n",
        "for batch in train_datagen.flow(x, batch_size=1):\n",
        "    plt.imshow(batch[0, :, :, 0], cmap='gray')\n",
        "    plt.title(\"Augmented Image\")\n",
        "    plt.show()\n",
        "    i += 1\n",
        "    if i >= 5:\n",
        "        break\n"
      ],
      "metadata": {
        "id": "y2-vQpkF6sRg",
        "colab": {
          "base_uri": "https://localhost:8080/",
          "height": 326
        },
        "outputId": "42968785-d1d2-4a79-ed87-c2c821611bf6"
      },
      "execution_count": 42,
      "outputs": [
        {
          "output_type": "error",
          "ename": "ValueError",
          "evalue": "Input to `.fit()` should have rank 4. Got array with shape: (10000, 52, 52, 1, 1)",
          "traceback": [
            "\u001b[0;31m---------------------------------------------------------------------------\u001b[0m",
            "\u001b[0;31mValueError\u001b[0m                                Traceback (most recent call last)",
            "\u001b[0;32m<ipython-input-42-6282ab0db382>\u001b[0m in \u001b[0;36m<cell line: 16>\u001b[0;34m()\u001b[0m\n\u001b[1;32m     14\u001b[0m \u001b[0;34m\u001b[0m\u001b[0m\n\u001b[1;32m     15\u001b[0m \u001b[0;31m#Kontrolei patikriname ar gerai veikia:\u001b[0m\u001b[0;34m\u001b[0m\u001b[0;34m\u001b[0m\u001b[0m\n\u001b[0;32m---> 16\u001b[0;31m \u001b[0mtrain_datagen\u001b[0m\u001b[0;34m.\u001b[0m\u001b[0mfit\u001b[0m\u001b[0;34m(\u001b[0m\u001b[0mX_edges\u001b[0m\u001b[0;34m)\u001b[0m\u001b[0;34m\u001b[0m\u001b[0;34m\u001b[0m\u001b[0m\n\u001b[0m\u001b[1;32m     17\u001b[0m \u001b[0;34m\u001b[0m\u001b[0m\n\u001b[1;32m     18\u001b[0m \u001b[0mx\u001b[0m \u001b[0;34m=\u001b[0m \u001b[0mX_edges\u001b[0m\u001b[0;34m[\u001b[0m\u001b[0;36m0\u001b[0m\u001b[0;34m]\u001b[0m\u001b[0;34m\u001b[0m\u001b[0;34m\u001b[0m\u001b[0m\n",
            "\u001b[0;32m/usr/local/lib/python3.10/dist-packages/keras/src/legacy/preprocessing/image.py\u001b[0m in \u001b[0;36mfit\u001b[0;34m(self, x, augment, rounds, seed)\u001b[0m\n\u001b[1;32m   1488\u001b[0m         \u001b[0mx\u001b[0m \u001b[0;34m=\u001b[0m \u001b[0mnp\u001b[0m\u001b[0;34m.\u001b[0m\u001b[0masarray\u001b[0m\u001b[0;34m(\u001b[0m\u001b[0mx\u001b[0m\u001b[0;34m,\u001b[0m \u001b[0mdtype\u001b[0m\u001b[0;34m=\u001b[0m\u001b[0mself\u001b[0m\u001b[0;34m.\u001b[0m\u001b[0mdtype\u001b[0m\u001b[0;34m)\u001b[0m\u001b[0;34m\u001b[0m\u001b[0;34m\u001b[0m\u001b[0m\n\u001b[1;32m   1489\u001b[0m         \u001b[0;32mif\u001b[0m \u001b[0mx\u001b[0m\u001b[0;34m.\u001b[0m\u001b[0mndim\u001b[0m \u001b[0;34m!=\u001b[0m \u001b[0;36m4\u001b[0m\u001b[0;34m:\u001b[0m\u001b[0;34m\u001b[0m\u001b[0;34m\u001b[0m\u001b[0m\n\u001b[0;32m-> 1490\u001b[0;31m             raise ValueError(\n\u001b[0m\u001b[1;32m   1491\u001b[0m                 \u001b[0;34m\"Input to `.fit()` should have rank 4. Got array with shape: \"\u001b[0m\u001b[0;34m\u001b[0m\u001b[0;34m\u001b[0m\u001b[0m\n\u001b[1;32m   1492\u001b[0m                 \u001b[0;34m+\u001b[0m \u001b[0mstr\u001b[0m\u001b[0;34m(\u001b[0m\u001b[0mx\u001b[0m\u001b[0;34m.\u001b[0m\u001b[0mshape\u001b[0m\u001b[0;34m)\u001b[0m\u001b[0;34m\u001b[0m\u001b[0;34m\u001b[0m\u001b[0m\n",
            "\u001b[0;31mValueError\u001b[0m: Input to `.fit()` should have rank 4. Got array with shape: (10000, 52, 52, 1, 1)"
          ]
        }
      ]
    },
    {
      "cell_type": "markdown",
      "source": [
        "Apibrėžia neuroninį tinklą:"
      ],
      "metadata": {
        "id": "oPUbYUbJMSjq"
      }
    },
    {
      "cell_type": "code",
      "source": [
        "model = keras.Sequential([\n",
        "    layers.Conv2D(16, (3, 3), activation='relu', input_shape=(52, 52, 1)),\n",
        "    layers.BatchNormalization(),\n",
        "    layers.MaxPooling2D((2, 2)),\n",
        "    layers.Dropout(0.2),\n",
        "\n",
        "    layers.Conv2D(32, (3, 3), activation='relu'),\n",
        "    layers.BatchNormalization(),\n",
        "    layers.MaxPooling2D((2, 2)),\n",
        "    layers.Dropout(0.3),\n",
        "\n",
        "    layers.Conv2D(64, (3, 3), activation='relu'),\n",
        "    layers.BatchNormalization(),\n",
        "    layers.MaxPooling2D((2, 2)),\n",
        "    layers.Dropout(0.4),\n",
        "\n",
        "    layers.Conv2D(128, (3, 3), activation='relu'),\n",
        "    layers.BatchNormalization(),\n",
        "    layers.MaxPooling2D((2, 2)),\n",
        "    layers.Dropout(0.5),\n",
        "\n",
        "    layers.Flatten(),\n",
        "    layers.Dense(128, activation='relu'),\n",
        "    layers.Dropout(0.5),\n",
        "    layers.Dense(10, activation='softmax')\n",
        "])\n",
        "\n",
        "model.compile(optimizer='adam', loss='sparse_categorical_crossentropy', metrics=['accuracy'])\n"
      ],
      "metadata": {
        "colab": {
          "base_uri": "https://localhost:8080/"
        },
        "id": "LN-725He1l-z",
        "outputId": "48b96f86-1c6a-4d61-9b15-dcee348248ba"
      },
      "execution_count": 25,
      "outputs": [
        {
          "output_type": "stream",
          "name": "stderr",
          "text": [
            "/usr/local/lib/python3.10/dist-packages/keras/src/layers/convolutional/base_conv.py:107: UserWarning: Do not pass an `input_shape`/`input_dim` argument to a layer. When using Sequential models, prefer using an `Input(shape)` object as the first layer in the model instead.\n",
            "  super().__init__(activity_regularizer=activity_regularizer, **kwargs)\n"
          ]
        }
      ]
    },
    {
      "cell_type": "markdown",
      "source": [
        "Pridedame callbacką, kuris loggintų kaip sekasi treniruotis modeliui ir saugotų tarpinius variantus."
      ],
      "metadata": {
        "id": "cpI4SNAbMZ60"
      }
    },
    {
      "cell_type": "code",
      "source": [
        "from tensorflow.keras.callbacks import ModelCheckpoint\n",
        "\n",
        "checkpoint_callback = ModelCheckpoint(\n",
        "    filepath='model_{epoch:02d}.weights.h5',\n",
        "    monitor='val_accuracy',\n",
        "    save_best_only=False,\n",
        "    save_weights_only=True,\n",
        "    verbose=1\n",
        ")"
      ],
      "metadata": {
        "id": "ex1g24g2_Ysp"
      },
      "execution_count": 26,
      "outputs": []
    },
    {
      "cell_type": "markdown",
      "source": [
        "Treniruojame modelį:"
      ],
      "metadata": {
        "id": "tIGHQYL2MpDf"
      }
    },
    {
      "cell_type": "code",
      "source": [
        "x_train, x_test, y_train, y_test = train_test_split(X_edges, y, test_size=0.2, random_state=42)\n",
        "\n",
        "train_generator = train_datagen.flow(\n",
        "    x_train,\n",
        "    y_train,\n",
        "    batch_size=32,\n",
        "    shuffle=True\n",
        ")\n",
        "\n",
        "model.fit(\n",
        "    train_generator,\n",
        "    epochs=50,\n",
        "    validation_data=(x_test, y_test),\n",
        "    callbacks=[checkpoint_callback]\n",
        ")"
      ],
      "metadata": {
        "id": "lHRaWtTw_3bk",
        "colab": {
          "base_uri": "https://localhost:8080/"
        },
        "outputId": "10f1d4c9-45bd-499d-d469-d69c312bd002"
      },
      "execution_count": 32,
      "outputs": [
        {
          "output_type": "stream",
          "name": "stdout",
          "text": [
            "Epoch 1/50\n",
            "\u001b[1m245/250\u001b[0m \u001b[32m━━━━━━━━━━━━━━━━━━━\u001b[0m\u001b[37m━\u001b[0m \u001b[1m0s\u001b[0m 16ms/step - accuracy: 0.7197 - loss: 0.7161\n",
            "Epoch 1: saving model to model_01.weights.h5\n",
            "\u001b[1m250/250\u001b[0m \u001b[32m━━━━━━━━━━━━━━━━━━━━\u001b[0m\u001b[37m\u001b[0m \u001b[1m4s\u001b[0m 17ms/step - accuracy: 0.7198 - loss: 0.7159 - val_accuracy: 0.5605 - val_loss: 1.0599\n",
            "Epoch 2/50\n",
            "\u001b[1m244/250\u001b[0m \u001b[32m━━━━━━━━━━━━━━━━━━━\u001b[0m\u001b[37m━\u001b[0m \u001b[1m0s\u001b[0m 16ms/step - accuracy: 0.7311 - loss: 0.7010\n",
            "Epoch 2: saving model to model_02.weights.h5\n",
            "\u001b[1m250/250\u001b[0m \u001b[32m━━━━━━━━━━━━━━━━━━━━\u001b[0m\u001b[37m\u001b[0m \u001b[1m4s\u001b[0m 16ms/step - accuracy: 0.7314 - loss: 0.7005 - val_accuracy: 0.7815 - val_loss: 0.7013\n",
            "Epoch 3/50\n",
            "\u001b[1m242/250\u001b[0m \u001b[32m━━━━━━━━━━━━━━━━━━━\u001b[0m\u001b[37m━\u001b[0m \u001b[1m0s\u001b[0m 16ms/step - accuracy: 0.7553 - loss: 0.6669\n",
            "Epoch 3: saving model to model_03.weights.h5\n",
            "\u001b[1m250/250\u001b[0m \u001b[32m━━━━━━━━━━━━━━━━━━━━\u001b[0m\u001b[37m\u001b[0m \u001b[1m4s\u001b[0m 16ms/step - accuracy: 0.7554 - loss: 0.6664 - val_accuracy: 0.9290 - val_loss: 0.3240\n",
            "Epoch 4/50\n",
            "\u001b[1m242/250\u001b[0m \u001b[32m━━━━━━━━━━━━━━━━━━━\u001b[0m\u001b[37m━\u001b[0m \u001b[1m0s\u001b[0m 16ms/step - accuracy: 0.7686 - loss: 0.6132\n",
            "Epoch 4: saving model to model_04.weights.h5\n",
            "\u001b[1m250/250\u001b[0m \u001b[32m━━━━━━━━━━━━━━━━━━━━\u001b[0m\u001b[37m\u001b[0m \u001b[1m4s\u001b[0m 16ms/step - accuracy: 0.7686 - loss: 0.6137 - val_accuracy: 0.7825 - val_loss: 0.6033\n",
            "Epoch 5/50\n",
            "\u001b[1m245/250\u001b[0m \u001b[32m━━━━━━━━━━━━━━━━━━━\u001b[0m\u001b[37m━\u001b[0m \u001b[1m0s\u001b[0m 16ms/step - accuracy: 0.7787 - loss: 0.6100\n",
            "Epoch 5: saving model to model_05.weights.h5\n",
            "\u001b[1m250/250\u001b[0m \u001b[32m━━━━━━━━━━━━━━━━━━━━\u001b[0m\u001b[37m\u001b[0m \u001b[1m4s\u001b[0m 16ms/step - accuracy: 0.7789 - loss: 0.6097 - val_accuracy: 0.5890 - val_loss: 1.2069\n",
            "Epoch 6/50\n",
            "\u001b[1m244/250\u001b[0m \u001b[32m━━━━━━━━━━━━━━━━━━━\u001b[0m\u001b[37m━\u001b[0m \u001b[1m0s\u001b[0m 16ms/step - accuracy: 0.7899 - loss: 0.5834\n",
            "Epoch 6: saving model to model_06.weights.h5\n",
            "\u001b[1m250/250\u001b[0m \u001b[32m━━━━━━━━━━━━━━━━━━━━\u001b[0m\u001b[37m\u001b[0m \u001b[1m4s\u001b[0m 16ms/step - accuracy: 0.7901 - loss: 0.5830 - val_accuracy: 0.8475 - val_loss: 0.4808\n",
            "Epoch 7/50\n",
            "\u001b[1m243/250\u001b[0m \u001b[32m━━━━━━━━━━━━━━━━━━━\u001b[0m\u001b[37m━\u001b[0m \u001b[1m0s\u001b[0m 16ms/step - accuracy: 0.7926 - loss: 0.5614\n",
            "Epoch 7: saving model to model_07.weights.h5\n",
            "\u001b[1m250/250\u001b[0m \u001b[32m━━━━━━━━━━━━━━━━━━━━\u001b[0m\u001b[37m\u001b[0m \u001b[1m4s\u001b[0m 16ms/step - accuracy: 0.7927 - loss: 0.5616 - val_accuracy: 0.9725 - val_loss: 0.2197\n",
            "Epoch 8/50\n",
            "\u001b[1m242/250\u001b[0m \u001b[32m━━━━━━━━━━━━━━━━━━━\u001b[0m\u001b[37m━\u001b[0m \u001b[1m0s\u001b[0m 16ms/step - accuracy: 0.8122 - loss: 0.5364\n",
            "Epoch 8: saving model to model_08.weights.h5\n",
            "\u001b[1m250/250\u001b[0m \u001b[32m━━━━━━━━━━━━━━━━━━━━\u001b[0m\u001b[37m\u001b[0m \u001b[1m4s\u001b[0m 16ms/step - accuracy: 0.8124 - loss: 0.5360 - val_accuracy: 0.9785 - val_loss: 0.1972\n",
            "Epoch 9/50\n",
            "\u001b[1m250/250\u001b[0m \u001b[32m━━━━━━━━━━━━━━━━━━━━\u001b[0m\u001b[37m\u001b[0m \u001b[1m0s\u001b[0m 16ms/step - accuracy: 0.8140 - loss: 0.5388\n",
            "Epoch 9: saving model to model_09.weights.h5\n",
            "\u001b[1m250/250\u001b[0m \u001b[32m━━━━━━━━━━━━━━━━━━━━\u001b[0m\u001b[37m\u001b[0m \u001b[1m4s\u001b[0m 16ms/step - accuracy: 0.8140 - loss: 0.5388 - val_accuracy: 0.9700 - val_loss: 0.2125\n",
            "Epoch 10/50\n",
            "\u001b[1m245/250\u001b[0m \u001b[32m━━━━━━━━━━━━━━━━━━━\u001b[0m\u001b[37m━\u001b[0m \u001b[1m0s\u001b[0m 15ms/step - accuracy: 0.8297 - loss: 0.5070\n",
            "Epoch 10: saving model to model_10.weights.h5\n",
            "\u001b[1m250/250\u001b[0m \u001b[32m━━━━━━━━━━━━━━━━━━━━\u001b[0m\u001b[37m\u001b[0m \u001b[1m4s\u001b[0m 16ms/step - accuracy: 0.8297 - loss: 0.5070 - val_accuracy: 0.9810 - val_loss: 0.1862\n",
            "Epoch 11/50\n",
            "\u001b[1m245/250\u001b[0m \u001b[32m━━━━━━━━━━━━━━━━━━━\u001b[0m\u001b[37m━\u001b[0m \u001b[1m0s\u001b[0m 16ms/step - accuracy: 0.8542 - loss: 0.4555\n",
            "Epoch 11: saving model to model_11.weights.h5\n",
            "\u001b[1m250/250\u001b[0m \u001b[32m━━━━━━━━━━━━━━━━━━━━\u001b[0m\u001b[37m\u001b[0m \u001b[1m4s\u001b[0m 16ms/step - accuracy: 0.8541 - loss: 0.4561 - val_accuracy: 0.9580 - val_loss: 0.2099\n",
            "Epoch 12/50\n",
            "\u001b[1m241/250\u001b[0m \u001b[32m━━━━━━━━━━━━━━━━━━━\u001b[0m\u001b[37m━\u001b[0m \u001b[1m0s\u001b[0m 16ms/step - accuracy: 0.8491 - loss: 0.4594\n",
            "Epoch 12: saving model to model_12.weights.h5\n",
            "\u001b[1m250/250\u001b[0m \u001b[32m━━━━━━━━━━━━━━━━━━━━\u001b[0m\u001b[37m\u001b[0m \u001b[1m4s\u001b[0m 16ms/step - accuracy: 0.8490 - loss: 0.4599 - val_accuracy: 0.9750 - val_loss: 0.1771\n",
            "Epoch 13/50\n",
            "\u001b[1m241/250\u001b[0m \u001b[32m━━━━━━━━━━━━━━━━━━━\u001b[0m\u001b[37m━\u001b[0m \u001b[1m0s\u001b[0m 16ms/step - accuracy: 0.8499 - loss: 0.4652\n",
            "Epoch 13: saving model to model_13.weights.h5\n",
            "\u001b[1m250/250\u001b[0m \u001b[32m━━━━━━━━━━━━━━━━━━━━\u001b[0m\u001b[37m\u001b[0m \u001b[1m4s\u001b[0m 16ms/step - accuracy: 0.8498 - loss: 0.4651 - val_accuracy: 0.9600 - val_loss: 0.2105\n",
            "Epoch 14/50\n",
            "\u001b[1m249/250\u001b[0m \u001b[32m━━━━━━━━━━━━━━━━━━━\u001b[0m\u001b[37m━\u001b[0m \u001b[1m0s\u001b[0m 15ms/step - accuracy: 0.8628 - loss: 0.4352\n",
            "Epoch 14: saving model to model_14.weights.h5\n",
            "\u001b[1m250/250\u001b[0m \u001b[32m━━━━━━━━━━━━━━━━━━━━\u001b[0m\u001b[37m\u001b[0m \u001b[1m4s\u001b[0m 16ms/step - accuracy: 0.8627 - loss: 0.4353 - val_accuracy: 0.9770 - val_loss: 0.1715\n",
            "Epoch 15/50\n",
            "\u001b[1m245/250\u001b[0m \u001b[32m━━━━━━━━━━━━━━━━━━━\u001b[0m\u001b[37m━\u001b[0m \u001b[1m0s\u001b[0m 16ms/step - accuracy: 0.8576 - loss: 0.4577\n",
            "Epoch 15: saving model to model_15.weights.h5\n",
            "\u001b[1m250/250\u001b[0m \u001b[32m━━━━━━━━━━━━━━━━━━━━\u001b[0m\u001b[37m\u001b[0m \u001b[1m4s\u001b[0m 16ms/step - accuracy: 0.8575 - loss: 0.4576 - val_accuracy: 0.9765 - val_loss: 0.1825\n",
            "Epoch 16/50\n",
            "\u001b[1m243/250\u001b[0m \u001b[32m━━━━━━━━━━━━━━━━━━━\u001b[0m\u001b[37m━\u001b[0m \u001b[1m0s\u001b[0m 16ms/step - accuracy: 0.8664 - loss: 0.4421\n",
            "Epoch 16: saving model to model_16.weights.h5\n",
            "\u001b[1m250/250\u001b[0m \u001b[32m━━━━━━━━━━━━━━━━━━━━\u001b[0m\u001b[37m\u001b[0m \u001b[1m4s\u001b[0m 16ms/step - accuracy: 0.8665 - loss: 0.4419 - val_accuracy: 0.9830 - val_loss: 0.1592\n",
            "Epoch 17/50\n",
            "\u001b[1m245/250\u001b[0m \u001b[32m━━━━━━━━━━━━━━━━━━━\u001b[0m\u001b[37m━\u001b[0m \u001b[1m0s\u001b[0m 15ms/step - accuracy: 0.8694 - loss: 0.4016\n",
            "Epoch 17: saving model to model_17.weights.h5\n",
            "\u001b[1m250/250\u001b[0m \u001b[32m━━━━━━━━━━━━━━━━━━━━\u001b[0m\u001b[37m\u001b[0m \u001b[1m4s\u001b[0m 16ms/step - accuracy: 0.8695 - loss: 0.4018 - val_accuracy: 0.9645 - val_loss: 0.1988\n",
            "Epoch 18/50\n",
            "\u001b[1m241/250\u001b[0m \u001b[32m━━━━━━━━━━━━━━━━━━━\u001b[0m\u001b[37m━\u001b[0m \u001b[1m0s\u001b[0m 16ms/step - accuracy: 0.8686 - loss: 0.4241\n",
            "Epoch 18: saving model to model_18.weights.h5\n",
            "\u001b[1m250/250\u001b[0m \u001b[32m━━━━━━━━━━━━━━━━━━━━\u001b[0m\u001b[37m\u001b[0m \u001b[1m4s\u001b[0m 16ms/step - accuracy: 0.8687 - loss: 0.4239 - val_accuracy: 0.8880 - val_loss: 0.5159\n",
            "Epoch 19/50\n",
            "\u001b[1m245/250\u001b[0m \u001b[32m━━━━━━━━━━━━━━━━━━━\u001b[0m\u001b[37m━\u001b[0m \u001b[1m0s\u001b[0m 15ms/step - accuracy: 0.8806 - loss: 0.4105\n",
            "Epoch 19: saving model to model_19.weights.h5\n",
            "\u001b[1m250/250\u001b[0m \u001b[32m━━━━━━━━━━━━━━━━━━━━\u001b[0m\u001b[37m\u001b[0m \u001b[1m4s\u001b[0m 16ms/step - accuracy: 0.8805 - loss: 0.4105 - val_accuracy: 0.9675 - val_loss: 0.1934\n",
            "Epoch 20/50\n",
            "\u001b[1m243/250\u001b[0m \u001b[32m━━━━━━━━━━━━━━━━━━━\u001b[0m\u001b[37m━\u001b[0m \u001b[1m0s\u001b[0m 16ms/step - accuracy: 0.8955 - loss: 0.3739\n",
            "Epoch 20: saving model to model_20.weights.h5\n",
            "\u001b[1m250/250\u001b[0m \u001b[32m━━━━━━━━━━━━━━━━━━━━\u001b[0m\u001b[37m\u001b[0m \u001b[1m4s\u001b[0m 16ms/step - accuracy: 0.8954 - loss: 0.3741 - val_accuracy: 0.9845 - val_loss: 0.1410\n",
            "Epoch 21/50\n",
            "\u001b[1m245/250\u001b[0m \u001b[32m━━━━━━━━━━━━━━━━━━━\u001b[0m\u001b[37m━\u001b[0m \u001b[1m0s\u001b[0m 16ms/step - accuracy: 0.8919 - loss: 0.3643\n",
            "Epoch 21: saving model to model_21.weights.h5\n",
            "\u001b[1m250/250\u001b[0m \u001b[32m━━━━━━━━━━━━━━━━━━━━\u001b[0m\u001b[37m\u001b[0m \u001b[1m4s\u001b[0m 16ms/step - accuracy: 0.8918 - loss: 0.3644 - val_accuracy: 0.9840 - val_loss: 0.1419\n",
            "Epoch 22/50\n",
            "\u001b[1m243/250\u001b[0m \u001b[32m━━━━━━━━━━━━━━━━━━━\u001b[0m\u001b[37m━\u001b[0m \u001b[1m0s\u001b[0m 16ms/step - accuracy: 0.8885 - loss: 0.3697\n",
            "Epoch 22: saving model to model_22.weights.h5\n",
            "\u001b[1m250/250\u001b[0m \u001b[32m━━━━━━━━━━━━━━━━━━━━\u001b[0m\u001b[37m\u001b[0m \u001b[1m4s\u001b[0m 16ms/step - accuracy: 0.8885 - loss: 0.3701 - val_accuracy: 0.9825 - val_loss: 0.1330\n",
            "Epoch 23/50\n",
            "\u001b[1m241/250\u001b[0m \u001b[32m━━━━━━━━━━━━━━━━━━━\u001b[0m\u001b[37m━\u001b[0m \u001b[1m0s\u001b[0m 16ms/step - accuracy: 0.8899 - loss: 0.3700\n",
            "Epoch 23: saving model to model_23.weights.h5\n",
            "\u001b[1m250/250\u001b[0m \u001b[32m━━━━━━━━━━━━━━━━━━━━\u001b[0m\u001b[37m\u001b[0m \u001b[1m4s\u001b[0m 16ms/step - accuracy: 0.8899 - loss: 0.3698 - val_accuracy: 0.9835 - val_loss: 0.1424\n",
            "Epoch 24/50\n",
            "\u001b[1m241/250\u001b[0m \u001b[32m━━━━━━━━━━━━━━━━━━━\u001b[0m\u001b[37m━\u001b[0m \u001b[1m0s\u001b[0m 16ms/step - accuracy: 0.8920 - loss: 0.3647\n",
            "Epoch 24: saving model to model_24.weights.h5\n",
            "\u001b[1m250/250\u001b[0m \u001b[32m━━━━━━━━━━━━━━━━━━━━\u001b[0m\u001b[37m\u001b[0m \u001b[1m4s\u001b[0m 16ms/step - accuracy: 0.8921 - loss: 0.3649 - val_accuracy: 0.9845 - val_loss: 0.1349\n",
            "Epoch 25/50\n",
            "\u001b[1m242/250\u001b[0m \u001b[32m━━━━━━━━━━━━━━━━━━━\u001b[0m\u001b[37m━\u001b[0m \u001b[1m0s\u001b[0m 16ms/step - accuracy: 0.8890 - loss: 0.3770\n",
            "Epoch 25: saving model to model_25.weights.h5\n",
            "\u001b[1m250/250\u001b[0m \u001b[32m━━━━━━━━━━━━━━━━━━━━\u001b[0m\u001b[37m\u001b[0m \u001b[1m4s\u001b[0m 16ms/step - accuracy: 0.8892 - loss: 0.3768 - val_accuracy: 0.9850 - val_loss: 0.1355\n",
            "Epoch 26/50\n",
            "\u001b[1m243/250\u001b[0m \u001b[32m━━━━━━━━━━━━━━━━━━━\u001b[0m\u001b[37m━\u001b[0m \u001b[1m0s\u001b[0m 16ms/step - accuracy: 0.8895 - loss: 0.3792\n",
            "Epoch 26: saving model to model_26.weights.h5\n",
            "\u001b[1m250/250\u001b[0m \u001b[32m━━━━━━━━━━━━━━━━━━━━\u001b[0m\u001b[37m\u001b[0m \u001b[1m4s\u001b[0m 16ms/step - accuracy: 0.8896 - loss: 0.3790 - val_accuracy: 0.9850 - val_loss: 0.1367\n",
            "Epoch 27/50\n",
            "\u001b[1m242/250\u001b[0m \u001b[32m━━━━━━━━━━━━━━━━━━━\u001b[0m\u001b[37m━\u001b[0m \u001b[1m0s\u001b[0m 16ms/step - accuracy: 0.9031 - loss: 0.3237\n",
            "Epoch 27: saving model to model_27.weights.h5\n",
            "\u001b[1m250/250\u001b[0m \u001b[32m━━━━━━━━━━━━━━━━━━━━\u001b[0m\u001b[37m\u001b[0m \u001b[1m4s\u001b[0m 16ms/step - accuracy: 0.9028 - loss: 0.3245 - val_accuracy: 0.9805 - val_loss: 0.1488\n",
            "Epoch 28/50\n",
            "\u001b[1m243/250\u001b[0m \u001b[32m━━━━━━━━━━━━━━━━━━━\u001b[0m\u001b[37m━\u001b[0m \u001b[1m0s\u001b[0m 16ms/step - accuracy: 0.8972 - loss: 0.3626\n",
            "Epoch 28: saving model to model_28.weights.h5\n",
            "\u001b[1m250/250\u001b[0m \u001b[32m━━━━━━━━━━━━━━━━━━━━\u001b[0m\u001b[37m\u001b[0m \u001b[1m4s\u001b[0m 16ms/step - accuracy: 0.8974 - loss: 0.3620 - val_accuracy: 0.9845 - val_loss: 0.1375\n",
            "Epoch 29/50\n",
            "\u001b[1m242/250\u001b[0m \u001b[32m━━━━━━━━━━━━━━━━━━━\u001b[0m\u001b[37m━\u001b[0m \u001b[1m0s\u001b[0m 16ms/step - accuracy: 0.8981 - loss: 0.3537\n",
            "Epoch 29: saving model to model_29.weights.h5\n",
            "\u001b[1m250/250\u001b[0m \u001b[32m━━━━━━━━━━━━━━━━━━━━\u001b[0m\u001b[37m\u001b[0m \u001b[1m4s\u001b[0m 16ms/step - accuracy: 0.8982 - loss: 0.3535 - val_accuracy: 0.9850 - val_loss: 0.1314\n",
            "Epoch 30/50\n",
            "\u001b[1m243/250\u001b[0m \u001b[32m━━━━━━━━━━━━━━━━━━━\u001b[0m\u001b[37m━\u001b[0m \u001b[1m0s\u001b[0m 16ms/step - accuracy: 0.9081 - loss: 0.3229\n",
            "Epoch 30: saving model to model_30.weights.h5\n",
            "\u001b[1m250/250\u001b[0m \u001b[32m━━━━━━━━━━━━━━━━━━━━\u001b[0m\u001b[37m\u001b[0m \u001b[1m4s\u001b[0m 16ms/step - accuracy: 0.9080 - loss: 0.3230 - val_accuracy: 0.9850 - val_loss: 0.1276\n",
            "Epoch 31/50\n",
            "\u001b[1m245/250\u001b[0m \u001b[32m━━━━━━━━━━━━━━━━━━━\u001b[0m\u001b[37m━\u001b[0m \u001b[1m0s\u001b[0m 16ms/step - accuracy: 0.9042 - loss: 0.3422\n",
            "Epoch 31: saving model to model_31.weights.h5\n",
            "\u001b[1m250/250\u001b[0m \u001b[32m━━━━━━━━━━━━━━━━━━━━\u001b[0m\u001b[37m\u001b[0m \u001b[1m4s\u001b[0m 16ms/step - accuracy: 0.9043 - loss: 0.3419 - val_accuracy: 0.9850 - val_loss: 0.1331\n",
            "Epoch 32/50\n",
            "\u001b[1m243/250\u001b[0m \u001b[32m━━━━━━━━━━━━━━━━━━━\u001b[0m\u001b[37m━\u001b[0m \u001b[1m0s\u001b[0m 16ms/step - accuracy: 0.9190 - loss: 0.2966\n",
            "Epoch 32: saving model to model_32.weights.h5\n",
            "\u001b[1m250/250\u001b[0m \u001b[32m━━━━━━━━━━━━━━━━━━━━\u001b[0m\u001b[37m\u001b[0m \u001b[1m4s\u001b[0m 16ms/step - accuracy: 0.9187 - loss: 0.2974 - val_accuracy: 0.9835 - val_loss: 0.1418\n",
            "Epoch 33/50\n",
            "\u001b[1m241/250\u001b[0m \u001b[32m━━━━━━━━━━━━━━━━━━━\u001b[0m\u001b[37m━\u001b[0m \u001b[1m0s\u001b[0m 16ms/step - accuracy: 0.9053 - loss: 0.3355\n",
            "Epoch 33: saving model to model_33.weights.h5\n",
            "\u001b[1m250/250\u001b[0m \u001b[32m━━━━━━━━━━━━━━━━━━━━\u001b[0m\u001b[37m\u001b[0m \u001b[1m4s\u001b[0m 16ms/step - accuracy: 0.9054 - loss: 0.3351 - val_accuracy: 0.9850 - val_loss: 0.1358\n",
            "Epoch 34/50\n",
            "\u001b[1m242/250\u001b[0m \u001b[32m━━━━━━━━━━━━━━━━━━━\u001b[0m\u001b[37m━\u001b[0m \u001b[1m0s\u001b[0m 16ms/step - accuracy: 0.9167 - loss: 0.2972\n",
            "Epoch 34: saving model to model_34.weights.h5\n",
            "\u001b[1m250/250\u001b[0m \u001b[32m━━━━━━━━━━━━━━━━━━━━\u001b[0m\u001b[37m\u001b[0m \u001b[1m4s\u001b[0m 16ms/step - accuracy: 0.9166 - loss: 0.2978 - val_accuracy: 0.9850 - val_loss: 0.1264\n",
            "Epoch 35/50\n",
            "\u001b[1m242/250\u001b[0m \u001b[32m━━━━━━━━━━━━━━━━━━━\u001b[0m\u001b[37m━\u001b[0m \u001b[1m0s\u001b[0m 16ms/step - accuracy: 0.9079 - loss: 0.3245\n",
            "Epoch 35: saving model to model_35.weights.h5\n",
            "\u001b[1m250/250\u001b[0m \u001b[32m━━━━━━━━━━━━━━━━━━━━\u001b[0m\u001b[37m\u001b[0m \u001b[1m4s\u001b[0m 16ms/step - accuracy: 0.9081 - loss: 0.3242 - val_accuracy: 0.9850 - val_loss: 0.1322\n",
            "Epoch 36/50\n",
            "\u001b[1m243/250\u001b[0m \u001b[32m━━━━━━━━━━━━━━━━━━━\u001b[0m\u001b[37m━\u001b[0m \u001b[1m0s\u001b[0m 16ms/step - accuracy: 0.9144 - loss: 0.3078\n",
            "Epoch 36: saving model to model_36.weights.h5\n",
            "\u001b[1m250/250\u001b[0m \u001b[32m━━━━━━━━━━━━━━━━━━━━\u001b[0m\u001b[37m\u001b[0m \u001b[1m4s\u001b[0m 16ms/step - accuracy: 0.9145 - loss: 0.3077 - val_accuracy: 0.9850 - val_loss: 0.1377\n",
            "Epoch 37/50\n",
            "\u001b[1m243/250\u001b[0m \u001b[32m━━━━━━━━━━━━━━━━━━━\u001b[0m\u001b[37m━\u001b[0m \u001b[1m0s\u001b[0m 16ms/step - accuracy: 0.9140 - loss: 0.3111\n",
            "Epoch 37: saving model to model_37.weights.h5\n",
            "\u001b[1m250/250\u001b[0m \u001b[32m━━━━━━━━━━━━━━━━━━━━\u001b[0m\u001b[37m\u001b[0m \u001b[1m4s\u001b[0m 16ms/step - accuracy: 0.9141 - loss: 0.3111 - val_accuracy: 0.9715 - val_loss: 0.1764\n",
            "Epoch 38/50\n",
            "\u001b[1m244/250\u001b[0m \u001b[32m━━━━━━━━━━━━━━━━━━━\u001b[0m\u001b[37m━\u001b[0m \u001b[1m0s\u001b[0m 16ms/step - accuracy: 0.9124 - loss: 0.3017\n",
            "Epoch 38: saving model to model_38.weights.h5\n",
            "\u001b[1m250/250\u001b[0m \u001b[32m━━━━━━━━━━━━━━━━━━━━\u001b[0m\u001b[37m\u001b[0m \u001b[1m4s\u001b[0m 16ms/step - accuracy: 0.9124 - loss: 0.3018 - val_accuracy: 0.9825 - val_loss: 0.1304\n",
            "Epoch 39/50\n",
            "\u001b[1m242/250\u001b[0m \u001b[32m━━━━━━━━━━━━━━━━━━━\u001b[0m\u001b[37m━\u001b[0m \u001b[1m0s\u001b[0m 16ms/step - accuracy: 0.9164 - loss: 0.3114\n",
            "Epoch 39: saving model to model_39.weights.h5\n",
            "\u001b[1m250/250\u001b[0m \u001b[32m━━━━━━━━━━━━━━━━━━━━\u001b[0m\u001b[37m\u001b[0m \u001b[1m4s\u001b[0m 17ms/step - accuracy: 0.9163 - loss: 0.3115 - val_accuracy: 0.9840 - val_loss: 0.1323\n",
            "Epoch 40/50\n",
            "\u001b[1m245/250\u001b[0m \u001b[32m━━━━━━━━━━━━━━━━━━━\u001b[0m\u001b[37m━\u001b[0m \u001b[1m0s\u001b[0m 16ms/step - accuracy: 0.9194 - loss: 0.2877\n",
            "Epoch 40: saving model to model_40.weights.h5\n",
            "\u001b[1m250/250\u001b[0m \u001b[32m━━━━━━━━━━━━━━━━━━━━\u001b[0m\u001b[37m\u001b[0m \u001b[1m4s\u001b[0m 16ms/step - accuracy: 0.9194 - loss: 0.2877 - val_accuracy: 0.9850 - val_loss: 0.1324\n",
            "Epoch 41/50\n",
            "\u001b[1m245/250\u001b[0m \u001b[32m━━━━━━━━━━━━━━━━━━━\u001b[0m\u001b[37m━\u001b[0m \u001b[1m0s\u001b[0m 16ms/step - accuracy: 0.9237 - loss: 0.2738\n",
            "Epoch 41: saving model to model_41.weights.h5\n",
            "\u001b[1m250/250\u001b[0m \u001b[32m━━━━━━━━━━━━━━━━━━━━\u001b[0m\u001b[37m\u001b[0m \u001b[1m4s\u001b[0m 16ms/step - accuracy: 0.9237 - loss: 0.2743 - val_accuracy: 0.9835 - val_loss: 0.1306\n",
            "Epoch 42/50\n",
            "\u001b[1m241/250\u001b[0m \u001b[32m━━━━━━━━━━━━━━━━━━━\u001b[0m\u001b[37m━\u001b[0m \u001b[1m0s\u001b[0m 16ms/step - accuracy: 0.9256 - loss: 0.2797\n",
            "Epoch 42: saving model to model_42.weights.h5\n",
            "\u001b[1m250/250\u001b[0m \u001b[32m━━━━━━━━━━━━━━━━━━━━\u001b[0m\u001b[37m\u001b[0m \u001b[1m4s\u001b[0m 16ms/step - accuracy: 0.9256 - loss: 0.2799 - val_accuracy: 0.9835 - val_loss: 0.1369\n",
            "Epoch 43/50\n",
            "\u001b[1m245/250\u001b[0m \u001b[32m━━━━━━━━━━━━━━━━━━━\u001b[0m\u001b[37m━\u001b[0m \u001b[1m0s\u001b[0m 15ms/step - accuracy: 0.9178 - loss: 0.2814\n",
            "Epoch 43: saving model to model_43.weights.h5\n",
            "\u001b[1m250/250\u001b[0m \u001b[32m━━━━━━━━━━━━━━━━━━━━\u001b[0m\u001b[37m\u001b[0m \u001b[1m4s\u001b[0m 16ms/step - accuracy: 0.9178 - loss: 0.2818 - val_accuracy: 0.9850 - val_loss: 0.1345\n",
            "Epoch 44/50\n",
            "\u001b[1m245/250\u001b[0m \u001b[32m━━━━━━━━━━━━━━━━━━━\u001b[0m\u001b[37m━\u001b[0m \u001b[1m0s\u001b[0m 16ms/step - accuracy: 0.9196 - loss: 0.2969\n",
            "Epoch 44: saving model to model_44.weights.h5\n",
            "\u001b[1m250/250\u001b[0m \u001b[32m━━━━━━━━━━━━━━━━━━━━\u001b[0m\u001b[37m\u001b[0m \u001b[1m4s\u001b[0m 16ms/step - accuracy: 0.9197 - loss: 0.2969 - val_accuracy: 0.9835 - val_loss: 0.1296\n",
            "Epoch 45/50\n",
            "\u001b[1m241/250\u001b[0m \u001b[32m━━━━━━━━━━━━━━━━━━━\u001b[0m\u001b[37m━\u001b[0m \u001b[1m0s\u001b[0m 16ms/step - accuracy: 0.9164 - loss: 0.3013\n",
            "Epoch 45: saving model to model_45.weights.h5\n",
            "\u001b[1m250/250\u001b[0m \u001b[32m━━━━━━━━━━━━━━━━━━━━\u001b[0m\u001b[37m\u001b[0m \u001b[1m4s\u001b[0m 16ms/step - accuracy: 0.9167 - loss: 0.3009 - val_accuracy: 0.9850 - val_loss: 0.1362\n",
            "Epoch 46/50\n",
            "\u001b[1m243/250\u001b[0m \u001b[32m━━━━━━━━━━━━━━━━━━━\u001b[0m\u001b[37m━\u001b[0m \u001b[1m0s\u001b[0m 16ms/step - accuracy: 0.9257 - loss: 0.2762\n",
            "Epoch 46: saving model to model_46.weights.h5\n",
            "\u001b[1m250/250\u001b[0m \u001b[32m━━━━━━━━━━━━━━━━━━━━\u001b[0m\u001b[37m\u001b[0m \u001b[1m4s\u001b[0m 16ms/step - accuracy: 0.9255 - loss: 0.2767 - val_accuracy: 0.9790 - val_loss: 0.1363\n",
            "Epoch 47/50\n",
            "\u001b[1m241/250\u001b[0m \u001b[32m━━━━━━━━━━━━━━━━━━━\u001b[0m\u001b[37m━\u001b[0m \u001b[1m0s\u001b[0m 16ms/step - accuracy: 0.9170 - loss: 0.3012\n",
            "Epoch 47: saving model to model_47.weights.h5\n",
            "\u001b[1m250/250\u001b[0m \u001b[32m━━━━━━━━━━━━━━━━━━━━\u001b[0m\u001b[37m\u001b[0m \u001b[1m4s\u001b[0m 16ms/step - accuracy: 0.9171 - loss: 0.3014 - val_accuracy: 0.9850 - val_loss: 0.1286\n",
            "Epoch 48/50\n",
            "\u001b[1m242/250\u001b[0m \u001b[32m━━━━━━━━━━━━━━━━━━━\u001b[0m\u001b[37m━\u001b[0m \u001b[1m0s\u001b[0m 16ms/step - accuracy: 0.9327 - loss: 0.2683\n",
            "Epoch 48: saving model to model_48.weights.h5\n",
            "\u001b[1m250/250\u001b[0m \u001b[32m━━━━━━━━━━━━━━━━━━━━\u001b[0m\u001b[37m\u001b[0m \u001b[1m4s\u001b[0m 17ms/step - accuracy: 0.9325 - loss: 0.2688 - val_accuracy: 0.9845 - val_loss: 0.1287\n",
            "Epoch 49/50\n",
            "\u001b[1m242/250\u001b[0m \u001b[32m━━━━━━━━━━━━━━━━━━━\u001b[0m\u001b[37m━\u001b[0m \u001b[1m0s\u001b[0m 16ms/step - accuracy: 0.9229 - loss: 0.2844\n",
            "Epoch 49: saving model to model_49.weights.h5\n",
            "\u001b[1m250/250\u001b[0m \u001b[32m━━━━━━━━━━━━━━━━━━━━\u001b[0m\u001b[37m\u001b[0m \u001b[1m4s\u001b[0m 16ms/step - accuracy: 0.9230 - loss: 0.2843 - val_accuracy: 0.9850 - val_loss: 0.1256\n",
            "Epoch 50/50\n",
            "\u001b[1m242/250\u001b[0m \u001b[32m━━━━━━━━━━━━━━━━━━━\u001b[0m\u001b[37m━\u001b[0m \u001b[1m0s\u001b[0m 16ms/step - accuracy: 0.9229 - loss: 0.3103\n",
            "Epoch 50: saving model to model_50.weights.h5\n",
            "\u001b[1m250/250\u001b[0m \u001b[32m━━━━━━━━━━━━━━━━━━━━\u001b[0m\u001b[37m\u001b[0m \u001b[1m4s\u001b[0m 16ms/step - accuracy: 0.9231 - loss: 0.3094 - val_accuracy: 0.9850 - val_loss: 0.1317\n"
          ]
        },
        {
          "output_type": "execute_result",
          "data": {
            "text/plain": [
              "<keras.src.callbacks.history.History at 0x7aa3c105b010>"
            ]
          },
          "metadata": {},
          "execution_count": 32
        }
      ]
    },
    {
      "cell_type": "code",
      "source": [
        "test_loss, test_acc = model.evaluate(x_test,  y_test, verbose=2)\n",
        "print('\\nTest accuracy:', test_acc)\n"
      ],
      "metadata": {
        "colab": {
          "base_uri": "https://localhost:8080/"
        },
        "id": "u-c9Z0u412Jo",
        "outputId": "c5e38db1-63dc-4827-d3af-028a03854bdb"
      },
      "execution_count": 33,
      "outputs": [
        {
          "output_type": "stream",
          "name": "stdout",
          "text": [
            "63/63 - 0s - 2ms/step - accuracy: 0.9850 - loss: 0.1317\n",
            "\n",
            "Test accuracy: 0.9850000143051147\n"
          ]
        }
      ]
    },
    {
      "cell_type": "code",
      "source": [
        "predictions = model.predict(X_p_edges)\n"
      ],
      "metadata": {
        "colab": {
          "base_uri": "https://localhost:8080/"
        },
        "id": "RiY6cu1I13h7",
        "outputId": "6a19e9fc-4792-4305-ef6f-5d97980bef53"
      },
      "execution_count": 34,
      "outputs": [
        {
          "output_type": "stream",
          "name": "stdout",
          "text": [
            "\u001b[1m313/313\u001b[0m \u001b[32m━━━━━━━━━━━━━━━━━━━━\u001b[0m\u001b[37m\u001b[0m \u001b[1m1s\u001b[0m 3ms/step\n"
          ]
        }
      ]
    },
    {
      "cell_type": "code",
      "source": [
        "predicted_labels = [np.argmax(pred) for pred in predictions]\n",
        "formatted_predictions = ''.join([str(round(p)) for p in predicted_labels])\n"
      ],
      "metadata": {
        "id": "XjnoW2_974Vj"
      },
      "execution_count": 35,
      "outputs": []
    },
    {
      "cell_type": "code",
      "source": [
        "print(formatted_predictions)"
      ],
      "metadata": {
        "colab": {
          "base_uri": "https://localhost:8080/"
        },
        "id": "jNtotrCC7t18",
        "outputId": "b0e95561-8d6f-4eca-be09-75d33cfba1ca"
      },
      "execution_count": 36,
      "outputs": [
        {
          "output_type": "stream",
          "name": "stdout",
          "text": [
            "6645533343400063340545465645540463060355660333004363364366664054553303655503043350530654600355355463530403365345345040035360650004655530445455543654345046545635635636546303536656366660360305666463536336363336336465353306053566453360450054500063446060346643400453633456446546354503346300344553655053533306444055363443403030606300064655506334560544330054354500443044350645463346060306504305053645045356533336636330660644345564354536063644433663304055544504505345553050664300303444544504030306344006554333400506536544330334035643434343650403330363543435603556453440550643403430450565505303434536654355435035004453066464566036403330463456364406563043554443345350663053566660564533336350334356344353343060333043443433504546433334036630064450544503643600503355633656300553303033036463444460646453433660605604345456536403330035505464066564430553033365340544530633643635653364030035430440356634344063556033036433354560635036440504640065344340360630645656404363635646435404000566355305364003035300453665355604454560366065300453055344643064505003640633033300355366455303044363454665305346550453446603355040336344366406666034430635645460030055644643436464555666535604534433533403656463455534635504300045363464434440365505440353066633435455505544440035566563444365006465334333654054465343003434466346465433440434444330364534565056636553350466366665444065035404305464055003066363646443506034066346345655363030563036546534303465653566303600330536353436333434335066330534556336543636533063664463544460404363630446655330334564353535300043333343453445054635566334303000404403305345440056456654646036363046453663443444334334364535344333565433446553504646563640503053635566330536553405563434335030303664055630335564353604646660446546334656646034645633405050533554434534053504534405566040353534050034445565535646605453535630533063453436563543544605056506045536044436563044440033640300365503465030335635304543503564033033543435654056553346400556563443446463556044360306553306600055344056563654063560300656335553436354636400330664340433345565444300663355536004040300460065555046565654663363660654645500503003630650436003654440605564505646630346355433505630004404465444333403544403353305434636435445550503645406353043335346063545366004536504054343043033336453304430466340456433534534536333403355666553334454634033053654043354466536650536533346333434535463464434035503535343436364653634550440500435666345606454665640553644340635346054344304443504645543556060034444434435605505646056505054364430550453306065556535536005634355634443355443436333404335360534644440440545463535040636333636444354445040543006605653655360446635564036306434533006445454004534466356330350345040343305300544054345536344534604554430666300406443045344343330335336056053464306403345334566006634436303345560653600660654463633334606505630605464535403660354436456553634040053405653564645535345400353400465565535430003533663334533506646403603630434654540343400453654430433000355655550305343654336630366533660345044400350604444543035603563050306033344665435655030343535346566005546533663660360430535500665336003655054633553303006404450450634554636533463300535503360036660060405034434464335060446450303343443056545544335343330055464546043364344636436445334043030353350433055033603455534653363030644354304633634536330666330045505005663635345635334344404364433645505543543504363456364430445430535344605443000655533404304553404646665353600035505645536635353336406044460044504306453444053003540444443605544643530663430364663560334463546064033535564663345340534036465533560355556644334504445366446435043330000534403446344565465064564063655546056533536530460566530553366643363553453456305045534303640053455356366565536434064604033444343434050564556366435336343633055430044454646560054446633606044356563444330444403453356403504340435330335464553365063505053666400503343035363405346543530544463644305400303660645653340666304453636660043403354334663054500044040500435660540656663334434336336363453544360300356304455653446334043305004353335654660565335543340534444663060645650564536434443463400404005455505436460500000063443330566564665363305643355000563435365655645650433406335063566553500653635654630534444345055343545305666664644306463460036046463034550033543340354543564563603564656055403630666030534404035343554053034363044364045365544355303463566306545363406335534546646653500550646504344500345436643630505536343436300363643530363436606330535535304635565464054634506555366353545345355400430305533654000345360535005653063443654636635650630534606340065305304566354633455355455503600054533434356446356440350530650453503444530334353043044603354035330305450533640405355666543060563433333663636354435463033530543635356430066600034363434554334333065006335554643463563440005464440305003046440443634503300000633634654433533665605655343540005454463634435034463446603640555543540533344640433530543355406440604656644404605530003663553300653533334050334644403600464446460453606546504365350553343646335604355344465540443303500303655540656333503345330533456454450036666053604334340533036436336553536630550563343006003330555604503650663344663353444343653450356546335533503654563304506665535636306444056464503445466556453534336536440406656533060346640545544403630555336443430440603353034634556566344464343330053634304340666403044333433450643535530554563303565553304360336430335065666366063533063460635034533643053064546066036350355364434403564433444643653546504430646436035564633456530303564346033503636400004563555354646663433053043636330443444434545345353456343360363635030063454036330665043460505456545343406653406403335555066043040504443034063506000333553005635035644500656303030065603630553036054353056460454534033545465335333565453554563046305405444433564554604563334034644435660463463063500334600045334336050344466654053533004446555543553633656640334605336503056033463644006653534363303406344503035354304433604636333345630035066355354333003344645665445540045440564543500305553344056334545404344365605546040055334635300654304564403405530555534306344666635536040454454454436343564066633305646650543634053335334450346434300360600534655040034065403404555303435534306645354344665540065354334000650353503650003546535355346350400553433650660034343635030336335564364334536654443540044036303306360554344433033543364443033605035353446336404453306045063060603036553644055540464463055550545444333065544403534354655356400640354460050465545363344350043656055435366634033046360365653506054350436656634436604333433530533363636043000634404656330665033035055345664345634436553363436656453433363543404503443454456645363344340505304503036530553363000633054430503045304005335335340366333430463654655443606544053560346363034035353544044553030334305466364063434460554506643556536343006544030365546560005356333453533003404553354035430466444034553606435543303606665035443353633353366300366535055446456430533333564440564336533353456563665365645400400534054630534306653646560044540456345533434634654536545360355436350633450635445333606563656464364643446356343355635663503560450644446543335604443546033454333406303666665060360350365044034645664400456434534666640536065430463504033443546044300363455345635464350666464450636440355546035350366400645365356404344450453635364353634043650305033063545363046606356355604330543604063466644305533353666333464333354663634354645433345356404404556040406434544454345464333645530336500050535433433630464536335550556636504340045344356466666665034350063335553505430456504346346334443665535660354444543440436406046000664564446436305335544355455343303333345446563453530534053465366650333534053335056336304304000060055640654053344000456644640504066063660543303630503034660036544435364054544663065434033533360406443565305634656534560043343563363656444456064540304650560345606004403606046455653433636355533330303005433456405563556363330534535605005666300366345365004433443540563066530004554664344055436333553345345063634064050634356006506443640446366333333065346665050603666335044366534444050063546304463335643630343343006033545443646653665405655554353435545403605353303536300303455306604463503306560036656530354004364545643440403360303066400443450044534633440603655306364346536435433464464433456000336334504465646643343430405433655534554434430460334463643030644433440334640630346064304443403544533436636563455064443633645633550035304403544045303633604436536403604363550443560300443660340655356450346533003335033366453455546443366460440534430645530345303456645434036366304346305034406003344456003006330665660646033545305463460364403453056534534533300330044046535665555554033505360334500405343464454635565655465503464555554030430005665306334660333036465644500643004460335653563304344034430304635434033303304405454663645064043033430045064550056634453300036344646636436335655565445354053640643034350665333366445650605464503305063353430443643563500553363343565335555654003556660353346400036554033360563036353664455633540463305646453460063600500454363656556364363303604665664363555004440336066640364504530634446446544335664646304033046344355433356633530363444333340353355005606565560435364053556360466006436450436034465436356350546445333634335345033334433063444300534443536600505304650556404454555663545454053033340363045430636056443565454530546605635343664004033543644033560035666556643630604345633604543354534435355345303633564433650654530606366653034653030034340445566604334663366344364453066503634330333630630003533634305350000004554046665404306553443504300635036560663465355645633345663436000445066605333033054453656303566364300666536306335444356354553650666340344505365550466563403455363646055545003033343433440353506633344665405455636056036400305046033553303345305365503466305334436533555006053634453443345035344340636030505463055036333045454006354630655450354430453346455030656535400434350533446035060346555343506646636355033350436054466046365450455444555466543030556344335650003464633636643444030634546404500603046365004636353554506650550504554500350604344634543445334406366366454450454545050655603364046533354654633433440564455444306653000606446605333644035433406430535\n"
          ]
        }
      ]
    },
    {
      "cell_type": "code",
      "source": [
        "model.save('/content/drive/MyDrive/Flatland data/my_model.keras')\n"
      ],
      "metadata": {
        "id": "m4B5G5loKOwE"
      },
      "execution_count": 38,
      "outputs": []
    },
    {
      "cell_type": "code",
      "source": [
        "import os\n",
        "file_size = os.path.getsize('/content/drive/MyDrive/Flatland data/my_model.keras')\n",
        "\n",
        "file_size_mb = file_size / (1024 * 1024)\n",
        "print(f'Model file size: {file_size_mb:.2f} MB')"
      ],
      "metadata": {
        "colab": {
          "base_uri": "https://localhost:8080/"
        },
        "id": "bDZgAp55KsQy",
        "outputId": "8d0e34b6-2d4e-48d6-fb41-a27c60926996"
      },
      "execution_count": 41,
      "outputs": [
        {
          "output_type": "stream",
          "name": "stdout",
          "text": [
            "Model file size: 1.40 MB\n"
          ]
        }
      ]
    },
    {
      "cell_type": "markdown",
      "source": [
        "Galutinis tikslumas: 98.48%,\n",
        "Modelio dydis: 1.40MB"
      ],
      "metadata": {
        "id": "mLfwUQHkMziq"
      }
    }
  ]
}